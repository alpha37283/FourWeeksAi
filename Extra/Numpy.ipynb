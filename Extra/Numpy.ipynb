{
 "cells": [
  {
   "cell_type": "code",
   "id": "initial_id",
   "metadata": {
    "collapsed": true,
    "ExecuteTime": {
     "end_time": "2025-10-02T16:14:01.236694Z",
     "start_time": "2025-10-02T16:14:01.043042Z"
    }
   },
   "source": "import numpy as np",
   "outputs": [],
   "execution_count": 1
  },
  {
   "metadata": {
    "ExecuteTime": {
     "end_time": "2025-10-02T16:26:22.595465Z",
     "start_time": "2025-10-02T16:26:22.585118Z"
    }
   },
   "cell_type": "code",
   "source": [
    "arr1 = np.array([[[1,2,3,4],[5,6,7,8]]])\n",
    "arr2 = np.zeros((2,2,4))\n",
    "arr3 = np.full((2,2,2), 7)\n",
    "arr4 = np.ones((2,2))"
   ],
   "id": "695d4e097e0eb891",
   "outputs": [],
   "execution_count": 13
  },
  {
   "metadata": {
    "ExecuteTime": {
     "end_time": "2025-10-02T16:26:24.489122Z",
     "start_time": "2025-10-02T16:26:24.477402Z"
    }
   },
   "cell_type": "code",
   "source": [
    "print(arr1)\n",
    "print(arr1.shape)"
   ],
   "id": "7a6fe3168d88eb30",
   "outputs": [
    {
     "name": "stdout",
     "output_type": "stream",
     "text": [
      "[[[1 2 3 4]\n",
      "  [5 6 7 8]]]\n",
      "(1, 2, 4)\n"
     ]
    }
   ],
   "execution_count": 14
  },
  {
   "metadata": {
    "ExecuteTime": {
     "end_time": "2025-10-02T16:20:02.011112Z",
     "start_time": "2025-10-02T16:20:02.001356Z"
    }
   },
   "cell_type": "code",
   "source": [
    "print(arr2)\n",
    "print(arr2.shape)"
   ],
   "id": "3d139ded4ace3af5",
   "outputs": [
    {
     "name": "stdout",
     "output_type": "stream",
     "text": [
      "[[[0. 0. 0. 0.]\n",
      "  [0. 0. 0. 0.]]\n",
      "\n",
      " [[0. 0. 0. 0.]\n",
      "  [0. 0. 0. 0.]]]\n",
      "(2, 2, 4)\n"
     ]
    }
   ],
   "execution_count": 12
  },
  {
   "metadata": {
    "ExecuteTime": {
     "end_time": "2025-10-02T16:19:09.285539Z",
     "start_time": "2025-10-02T16:19:09.274316Z"
    }
   },
   "cell_type": "code",
   "source": "print(arr3)\n",
   "id": "19aa19e27487df7f",
   "outputs": [
    {
     "name": "stdout",
     "output_type": "stream",
     "text": [
      "[[[7 7]\n",
      "  [7 7]]\n",
      "\n",
      " [[7 7]\n",
      "  [7 7]]]\n"
     ]
    }
   ],
   "execution_count": 9
  },
  {
   "metadata": {
    "ExecuteTime": {
     "end_time": "2025-10-02T16:19:22.314617Z",
     "start_time": "2025-10-02T16:19:22.304451Z"
    }
   },
   "cell_type": "code",
   "source": "print(arr4)",
   "id": "e5bd59067bab8ab3",
   "outputs": [
    {
     "name": "stdout",
     "output_type": "stream",
     "text": [
      "[[1. 1.]\n",
      " [1. 1.]]\n"
     ]
    }
   ],
   "execution_count": 10
  },
  {
   "metadata": {
    "ExecuteTime": {
     "end_time": "2025-10-02T16:56:36.796075Z",
     "start_time": "2025-10-02T16:56:36.783793Z"
    }
   },
   "cell_type": "code",
   "source": [
    "arr = [10,20,30,40,50,60,70,80]\n",
    "arrA = arr[0:8:2] # start : stop : number of skips\n",
    "arrB = arr[:2] # start : end\n",
    "arrC = arr[::3]   # each third element get skip\n",
    "last = arr[-1]\n",
    "reverse = arr[::-1]\n",
    "print(reverse)\n"
   ],
   "id": "14d78fe3b6e5a4fd",
   "outputs": [
    {
     "name": "stdout",
     "output_type": "stream",
     "text": [
      "[80, 70, 60, 50, 40, 30, 20, 10]\n"
     ]
    }
   ],
   "execution_count": 32
  },
  {
   "metadata": {
    "ExecuteTime": {
     "end_time": "2025-10-02T16:58:49.673744Z",
     "start_time": "2025-10-02T16:58:49.666054Z"
    }
   },
   "cell_type": "code",
   "source": [
    "list1 = np.random.rand(5)\n",
    "list2 = np.random.rand(5)"
   ],
   "id": "2317cc105f67d456",
   "outputs": [],
   "execution_count": 34
  },
  {
   "metadata": {},
   "cell_type": "code",
   "outputs": [],
   "execution_count": null,
   "source": [
    "addition = np.add(list1, list2)\n",
    "subtraction = np.subtract(list1, list2)\n",
    "div = np.divide(list1, list2)\n",
    "multiply = np.multiply(list1, list2)\n",
    "dotProd = np.dot(list1, list2) # m1 x n1 and m2 x n2 and n1 must be equal to m2\n"
   ],
   "id": "14ff71c583c4ba49"
  },
  {
   "metadata": {},
   "cell_type": "code",
   "outputs": [],
   "execution_count": null,
   "source": [
    "# SAPLEMM\n",
    "\n",
    "sqrt = np.sqrt(25)\n",
    "ab = np.abs(-1)\n",
    "power = np.power(7,2)\n",
    "log = np.log(2)\n",
    "exp = np.exp(1)\n",
    "mn = np.min(list1,list2)\n",
    "mx = np.max(list1,list2)\n",
    "\n"
   ],
   "id": "e20bdf0915f9d06c"
  }
 ],
 "metadata": {
  "kernelspec": {
   "display_name": "Python 3",
   "language": "python",
   "name": "python3"
  },
  "language_info": {
   "codemirror_mode": {
    "name": "ipython",
    "version": 2
   },
   "file_extension": ".py",
   "mimetype": "text/x-python",
   "name": "python",
   "nbconvert_exporter": "python",
   "pygments_lexer": "ipython2",
   "version": "2.7.6"
  }
 },
 "nbformat": 4,
 "nbformat_minor": 5
}

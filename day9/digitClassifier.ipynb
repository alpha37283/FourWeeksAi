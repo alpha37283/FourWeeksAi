{
 "cells": [
  {
   "cell_type": "code",
   "id": "initial_id",
   "metadata": {
    "collapsed": true,
    "ExecuteTime": {
     "end_time": "2025-09-30T15:15:26.010922Z",
     "start_time": "2025-09-30T15:15:25.509596Z"
    }
   },
   "source": [
    "import tensorflow as tf\n",
    "from tensorflow.keras import layers, models\n",
    "import datetime\n",
    "\n",
    "# Load MNIST dataset\n",
    "(x_train, y_train), (x_test, y_test) = tf.keras.datasets.mnist.load_data()\n",
    "\n",
    "# Normalize to [0,1] and reshape\n",
    "x_train = x_train.astype(\"float32\") / 255.0\n",
    "x_test  = x_test.astype(\"float32\") / 255.0\n",
    "\n",
    "# Flatten images to vectors (28x28 = 784)\n",
    "x_train = x_train.reshape(-1, 784)\n",
    "x_test  = x_test.reshape(-1, 784)\n"
   ],
   "outputs": [],
   "execution_count": 2
  },
  {
   "metadata": {
    "ExecuteTime": {
     "end_time": "2025-09-30T15:17:22.748239Z",
     "start_time": "2025-09-30T15:17:22.573130Z"
    }
   },
   "cell_type": "code",
   "source": [
    "model = models.Sequential([\n",
    "    layers.Input(shape=(784,)),                 # input layer\n",
    "    layers.Dense(256, activation=None),         # first hidden layer\n",
    "    layers.BatchNormalization(),                # batch normalization\n",
    "    layers.Activation(\"relu\"),                  # activation after BN\n",
    "    layers.Dropout(0.3),                        # dropout layer\n",
    "\n",
    "    layers.Dense(128, activation=None),         # second hidden layer\n",
    "    layers.BatchNormalization(),\n",
    "    layers.Activation(\"relu\"),\n",
    "    layers.Dropout(0.3),\n",
    "\n",
    "    layers.Dense(10, activation=\"softmax\")      # output layer (10 digits)\n",
    "])\n"
   ],
   "id": "675a96684f5c3629",
   "outputs": [],
   "execution_count": 4
  },
  {
   "metadata": {
    "ExecuteTime": {
     "end_time": "2025-09-30T15:17:38.311515Z",
     "start_time": "2025-09-30T15:17:38.289100Z"
    }
   },
   "cell_type": "code",
   "source": [
    "model.compile(\n",
    "    optimizer=\"adam\",\n",
    "    loss=\"sparse_categorical_crossentropy\",  # labels are integers 0–9\n",
    "    metrics=[\"accuracy\"]\n",
    ")\n"
   ],
   "id": "d95df1e9115f39ec",
   "outputs": [],
   "execution_count": 5
  },
  {
   "metadata": {
    "ExecuteTime": {
     "end_time": "2025-09-30T15:18:27.252650Z",
     "start_time": "2025-09-30T15:18:27.240700Z"
    }
   },
   "cell_type": "code",
   "source": [
    "# Define log directory with timestamp\n",
    "log_dir = \"logs/fit/\" + datetime.datetime.now().strftime(\"%Y%m%d-%H%M%S\")\n",
    "tensorboard_callback = tf.keras.callbacks.TensorBoard(log_dir=log_dir, histogram_freq=1)\n"
   ],
   "id": "d60895837d6b550a",
   "outputs": [],
   "execution_count": 7
  },
  {
   "metadata": {
    "ExecuteTime": {
     "end_time": "2025-09-30T15:19:46.787178Z",
     "start_time": "2025-09-30T15:18:29.335419Z"
    }
   },
   "cell_type": "code",
   "source": [
    "history = model.fit(\n",
    "    x_train, y_train,\n",
    "    validation_data=(x_test, y_test),\n",
    "    epochs=10,\n",
    "    batch_size=64,\n",
    "    callbacks=[tensorboard_callback]   # enable TensorBoard\n",
    ")\n"
   ],
   "id": "1d7bf80fcad3d44a",
   "outputs": [
    {
     "name": "stdout",
     "output_type": "stream",
     "text": [
      "Epoch 1/10\n"
     ]
    },
    {
     "name": "stderr",
     "output_type": "stream",
     "text": [
      "2025-09-30 20:18:29.627190: W external/local_xla/xla/tsl/framework/cpu_allocator_impl.cc:84] Allocation of 188160000 exceeds 10% of free system memory.\n"
     ]
    },
    {
     "name": "stdout",
     "output_type": "stream",
     "text": [
      "\u001B[1m938/938\u001B[0m \u001B[32m━━━━━━━━━━━━━━━━━━━━\u001B[0m\u001B[37m\u001B[0m \u001B[1m9s\u001B[0m 8ms/step - accuracy: 0.9040 - loss: 0.3231 - val_accuracy: 0.9631 - val_loss: 0.1213\n",
      "Epoch 2/10\n",
      "\u001B[1m938/938\u001B[0m \u001B[32m━━━━━━━━━━━━━━━━━━━━\u001B[0m\u001B[37m\u001B[0m \u001B[1m7s\u001B[0m 7ms/step - accuracy: 0.9481 - loss: 0.1700 - val_accuracy: 0.9729 - val_loss: 0.0906\n",
      "Epoch 3/10\n",
      "\u001B[1m938/938\u001B[0m \u001B[32m━━━━━━━━━━━━━━━━━━━━\u001B[0m\u001B[37m\u001B[0m \u001B[1m8s\u001B[0m 9ms/step - accuracy: 0.9591 - loss: 0.1341 - val_accuracy: 0.9731 - val_loss: 0.0855\n",
      "Epoch 4/10\n",
      "\u001B[1m938/938\u001B[0m \u001B[32m━━━━━━━━━━━━━━━━━━━━\u001B[0m\u001B[37m\u001B[0m \u001B[1m7s\u001B[0m 7ms/step - accuracy: 0.9639 - loss: 0.1140 - val_accuracy: 0.9761 - val_loss: 0.0735\n",
      "Epoch 5/10\n",
      "\u001B[1m938/938\u001B[0m \u001B[32m━━━━━━━━━━━━━━━━━━━━\u001B[0m\u001B[37m\u001B[0m \u001B[1m7s\u001B[0m 7ms/step - accuracy: 0.9680 - loss: 0.1012 - val_accuracy: 0.9796 - val_loss: 0.0650\n",
      "Epoch 6/10\n",
      "\u001B[1m938/938\u001B[0m \u001B[32m━━━━━━━━━━━━━━━━━━━━\u001B[0m\u001B[37m\u001B[0m \u001B[1m8s\u001B[0m 8ms/step - accuracy: 0.9715 - loss: 0.0899 - val_accuracy: 0.9807 - val_loss: 0.0624\n",
      "Epoch 7/10\n",
      "\u001B[1m938/938\u001B[0m \u001B[32m━━━━━━━━━━━━━━━━━━━━\u001B[0m\u001B[37m\u001B[0m \u001B[1m11s\u001B[0m 11ms/step - accuracy: 0.9746 - loss: 0.0798 - val_accuracy: 0.9800 - val_loss: 0.0640\n",
      "Epoch 8/10\n",
      "\u001B[1m938/938\u001B[0m \u001B[32m━━━━━━━━━━━━━━━━━━━━\u001B[0m\u001B[37m\u001B[0m \u001B[1m7s\u001B[0m 7ms/step - accuracy: 0.9753 - loss: 0.0763 - val_accuracy: 0.9803 - val_loss: 0.0616\n",
      "Epoch 9/10\n",
      "\u001B[1m938/938\u001B[0m \u001B[32m━━━━━━━━━━━━━━━━━━━━\u001B[0m\u001B[37m\u001B[0m \u001B[1m8s\u001B[0m 9ms/step - accuracy: 0.9769 - loss: 0.0707 - val_accuracy: 0.9826 - val_loss: 0.0598\n",
      "Epoch 10/10\n",
      "\u001B[1m938/938\u001B[0m \u001B[32m━━━━━━━━━━━━━━━━━━━━\u001B[0m\u001B[37m\u001B[0m \u001B[1m6s\u001B[0m 6ms/step - accuracy: 0.9782 - loss: 0.0666 - val_accuracy: 0.9840 - val_loss: 0.0599\n"
     ]
    }
   ],
   "execution_count": 8
  }
 ],
 "metadata": {
  "kernelspec": {
   "display_name": "Python 3",
   "language": "python",
   "name": "python3"
  },
  "language_info": {
   "codemirror_mode": {
    "name": "ipython",
    "version": 2
   },
   "file_extension": ".py",
   "mimetype": "text/x-python",
   "name": "python",
   "nbconvert_exporter": "python",
   "pygments_lexer": "ipython2",
   "version": "2.7.6"
  }
 },
 "nbformat": 4,
 "nbformat_minor": 5
}

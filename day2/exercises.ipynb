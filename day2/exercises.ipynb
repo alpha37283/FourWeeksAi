{
 "cells": [
  {
   "metadata": {
    "ExecuteTime": {
     "end_time": "2025-08-02T16:47:02.684023Z",
     "start_time": "2025-08-02T16:47:02.670771Z"
    }
   },
   "cell_type": "code",
   "source": [
    "from pandas import read_csv\n",
    "from sklearn.linear_model import LinearRegression\n",
    "from sklearn.metrics import mean_squared_error, r2_score\n",
    "\n",
    "df = read_csv(\"./HousingData.csv\")\n",
    "\n",
    "df = df[[\"CRIM\", \"ZN\", \"MEDV\"]].dropna()\n",
    "X = df[[\"CRIM\", \"ZN\"]].values\n",
    "y = df[\"MEDV\"].values\n",
    "\n",
    "\n",
    "'''\n",
    "x - x min / x max - x min\n",
    "'''\n",
    "# scaling\n",
    "X = (X - X.min(axis=0)) / (X.max(axis=0) - X.min(axis=0))\n",
    "\n",
    "model = LinearRegression()\n",
    "model.fit(X, y)\n",
    "y_pred = model.predict(X)\n",
    "\n",
    "mse = mean_squared_error(y, y_pred)\n",
    "r2 = r2_score(y, y_pred)\n",
    "\n",
    "print(\"Mean Squared Error:\", mse)\n",
    "print(\"R² Score:\", r2)\n",
    "\n",
    "\n"
   ],
   "id": "3fa1f01c5b5428f9",
   "outputs": [
    {
     "name": "stdout",
     "output_type": "stream",
     "text": [
      "Mean Squared Error: 62.392750773879335\n",
      "R² Score: 0.24618973917053277\n"
     ]
    }
   ],
   "execution_count": 38
  },
  {
   "metadata": {
    "ExecuteTime": {
     "end_time": "2025-08-02T16:48:10.202742Z",
     "start_time": "2025-08-02T16:48:10.196907Z"
    }
   },
   "cell_type": "code",
   "source": [
    "# creating my own loop\n",
    "import numpy as np\n",
    "\n",
    "n_samples, n_features = X.shape\n",
    "X = np.hstack([X, np.ones((n_samples, 1))])  # last column for bias\n",
    "w = np.zeros((n_features + 1, 1))  # weights + bias\n",
    "\n",
    "# Hyperparameters\n",
    "lr = 0.01\n",
    "epochs = 1000\n",
    "cost_history = []\n",
    "\n",
    "y = df[\"MEDV\"].values.reshape(-1, 1)  # Shape: (n_samples, 1)\n",
    "\n"
   ],
   "id": "e11feed87a1ffb3c",
   "outputs": [],
   "execution_count": 44
  },
  {
   "metadata": {
    "ExecuteTime": {
     "end_time": "2025-08-02T16:48:12.741249Z",
     "start_time": "2025-08-02T16:48:12.709893Z"
    }
   },
   "cell_type": "code",
   "source": [
    "for epoch in range(epochs):\n",
    "    y_pred = X @ w  # matrix multiplication\n",
    "    error = y_pred - y\n",
    "    cost = np.mean(error ** 2)\n",
    "    cost_history.append(cost)\n",
    "\n",
    "    # Gradient calculation\n",
    "    gradients = (2 / n_samples) * (X.T @ error)\n",
    "\n",
    "    # Update weights\n",
    "    w -= lr * gradients\n",
    "\n",
    "    if epoch % 100 == 0:\n",
    "        print(f\"Epoch {epoch}, Cost: {cost:.4f}\")\n",
    "\n"
   ],
   "id": "d51cdafadda6bfb3",
   "outputs": [
    {
     "name": "stdout",
     "output_type": "stream",
     "text": [
      "Epoch 0, Cost: 582.5993\n",
      "Epoch 100, Cost: 79.5216\n",
      "Epoch 200, Cost: 77.3913\n",
      "Epoch 300, Cost: 75.6359\n",
      "Epoch 400, Cost: 74.1833\n",
      "Epoch 500, Cost: 72.9753\n",
      "Epoch 600, Cost: 71.9652\n",
      "Epoch 700, Cost: 71.1155\n",
      "Epoch 800, Cost: 70.3960\n",
      "Epoch 900, Cost: 69.7824\n"
     ]
    }
   ],
   "execution_count": 45
  },
  {
   "metadata": {
    "ExecuteTime": {
     "end_time": "2025-08-02T16:48:16.826721Z",
     "start_time": "2025-08-02T16:48:16.818747Z"
    }
   },
   "cell_type": "code",
   "source": [
    "# Final weights and bias\n",
    "final_weights = w[:-1]\n",
    "final_bias = w[-1]\n",
    "print(\"\\nFinal Weights:\", final_weights.ravel())\n",
    "print(\"Final Bias:\", final_bias.item())\n",
    "\n",
    "# Predictions and Evaluation\n",
    "y_pred_final = X @ w\n",
    "mse = np.mean((y - y_pred_final) ** 2)\n",
    "print(\"Final MSE:\", mse)\n"
   ],
   "id": "a27e4d0c5d1a7a4b",
   "outputs": [
    {
     "name": "stdout",
     "output_type": "stream",
     "text": [
      "\n",
      "Final Weights: [-5.6836585   9.70283422  4.30484354  4.30484354  4.30484354  4.30484354]\n",
      "Final Bias: 4.304843536535734\n",
      "Final MSE: 69.25505143802901\n"
     ]
    }
   ],
   "execution_count": 46
  },
  {
   "metadata": {
    "ExecuteTime": {
     "end_time": "2025-08-02T16:48:20.212530Z",
     "start_time": "2025-08-02T16:48:20.103598Z"
    }
   },
   "cell_type": "code",
   "source": [
    "import matplotlib.pyplot as plt\n",
    "\n",
    "plt.plot(range(epochs), cost_history)\n",
    "plt.xlabel(\"Epoch\")\n",
    "plt.ylabel(\"Cost (MSE)\")\n",
    "plt.title(\"Gradient Descent Progress\")\n",
    "plt.grid(True)\n",
    "plt.show()\n"
   ],
   "id": "f07764352607f5d2",
   "outputs": [
    {
     "data": {
      "text/plain": [
       "<Figure size 640x480 with 1 Axes>"
      ],
      "image/png": "[encoded data removed]"
     },
     "metadata": {},
     "output_type": "display_data"
    }
   ],
   "execution_count": 47
  },
  {
   "metadata": {},
   "cell_type": "code",
   "outputs": [],
   "execution_count": null,
   "source": "",
   "id": "4eb75affacb932ab"
  }
 ],
 "metadata": {
  "kernelspec": {
   "display_name": "Python 3",
   "language": "python",
   "name": "python3"
  },
  "language_info": {
   "codemirror_mode": {
    "name": "ipython",
    "version": 2
   },
   "file_extension": ".py",
   "mimetype": "text/x-python",
   "name": "python",
   "nbconvert_exporter": "python",
   "pygments_lexer": "ipython2",
   "version": "2.7.6"
  }
 },
 "nbformat": 4,
 "nbformat_minor": 5
}

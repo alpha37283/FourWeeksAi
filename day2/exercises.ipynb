{
 "cells": [
  {
   "metadata": {
    "ExecuteTime": {
     "end_time": "2025-08-02T18:06:33.060141Z",
     "start_time": "2025-08-02T18:06:33.002711Z"
    }
   },
   "cell_type": "code",
   "source": [
    "from pandas import read_csv\n",
    "from sklearn.linear_model import LinearRegression\n",
    "from sklearn.metrics import mean_squared_error, r2_score\n",
    "\n",
    "df = read_csv(\"./HousingData.csv\")\n",
    "print(df.head())\n",
    "\n",
    "df = df[[\"CRIM\", \"ZN\", \"MEDV\", \"INDUS\", \"CHAS\", \"NOX\"]].dropna()\n",
    "X = df[[\"CRIM\", \"ZN\", \"INDUS\", \"CHAS\", \"NOX\"]].values\n",
    "y = df[\"MEDV\"].values\n",
    "\n",
    "\n",
    "'''\n",
    "x - x min / x max - x min\n",
    "'''\n",
    "# scaling\n",
    "X = (X - X.min(axis=0)) / (X.max(axis=0) - X.min(axis=0))\n",
    "\n",
    "model = LinearRegression()\n",
    "model.fit(X, y)\n",
    "y_pred = model.predict(X)\n",
    "\n",
    "mse = mean_squared_error(y, y_pred)\n",
    "r2 = r2_score(y, y_pred)\n",
    "\n",
    "print(\"Mean Squared Error:\", mse)\n",
    "print(\"R² Score:\", r2)\n",
    "\n",
    "\n"
   ],
   "id": "3fa1f01c5b5428f9",
   "outputs": [
    {
     "name": "stdout",
     "output_type": "stream",
     "text": [
      "      CRIM    ZN  INDUS  CHAS    NOX     RM   AGE     DIS  RAD  TAX  PTRATIO  \\\n",
      "0  0.00632  18.0   2.31   0.0  0.538  6.575  65.2  4.0900    1  296     15.3   \n",
      "1  0.02731   0.0   7.07   0.0  0.469  6.421  78.9  4.9671    2  242     17.8   \n",
      "2  0.02729   0.0   7.07   0.0  0.469  7.185  61.1  4.9671    2  242     17.8   \n",
      "3  0.03237   0.0   2.18   0.0  0.458  6.998  45.8  6.0622    3  222     18.7   \n",
      "4  0.06905   0.0   2.18   0.0  0.458  7.147  54.2  6.0622    3  222     18.7   \n",
      "\n",
      "        B  LSTAT  MEDV  \n",
      "0  396.90   4.98  24.0  \n",
      "1  396.90   9.14  21.6  \n",
      "2  392.83   4.03  34.7  \n",
      "3  394.63   2.94  33.4  \n",
      "4  396.90    NaN  36.2  \n",
      "Mean Squared Error: 57.13444374834066\n",
      "R² Score: 0.3437890519893996\n"
     ]
    }
   ],
   "execution_count": 79
  },
  {
   "metadata": {
    "ExecuteTime": {
     "end_time": "2025-08-02T18:06:33.221416Z",
     "start_time": "2025-08-02T18:06:33.205879Z"
    }
   },
   "cell_type": "code",
   "source": [
    "# creating my own loop\n",
    "import numpy as np\n",
    "\n",
    "n_samples, n_features = X.shape\n",
    "#print(n_samples, n_features)\n",
    "X = np.hstack([X, np.ones((n_samples, 1))])  # last column for bias\n",
    "#print(X.shape)\n",
    "w = np.zeros((n_features + 1, 1))  # weights + bias\n",
    "#print(w.shape)\n",
    "# Hyperparameters\n",
    "lr = 0.01\n",
    "epochs = 1000\n",
    "cost_history = []\n",
    "\n",
    "y = df[\"MEDV\"].values.reshape(-1, 1)  # Shape: (n_samples, 1)\n",
    "# print(y.shape)\n"
   ],
   "id": "e11feed87a1ffb3c",
   "outputs": [
    {
     "name": "stdout",
     "output_type": "stream",
     "text": [
      "(430, 1)\n"
     ]
    }
   ],
   "execution_count": 80
  },
  {
   "metadata": {
    "ExecuteTime": {
     "end_time": "2025-08-02T18:06:33.469459Z",
     "start_time": "2025-08-02T18:06:33.435167Z"
    }
   },
   "cell_type": "code",
   "source": [
    "for epoch in range(epochs):\n",
    "    y_pred = X @ w  # matrix multiplication\n",
    "    error = y_pred - y\n",
    "    cost = np.mean(error ** 2)\n",
    "    cost_history.append(cost)\n",
    "\n",
    "    # Gradient calculation\n",
    "    gradients = (2 / n_samples) * (X.T @ error)\n",
    "\n",
    "    # Update weights\n",
    "    w -= lr * gradients\n",
    "\n",
    "    if epoch % 100 == 0:\n",
    "        print(f\"Epoch {epoch}, Cost: {cost:.4f}\")\n",
    "\n"
   ],
   "id": "d51cdafadda6bfb3",
   "outputs": [
    {
     "name": "stdout",
     "output_type": "stream",
     "text": [
      "Epoch 0, Cost: 596.0208\n",
      "Epoch 100, Cost: 102.4348\n",
      "Epoch 200, Cost: 86.5165\n",
      "Epoch 300, Cost: 77.6413\n",
      "Epoch 400, Cost: 71.8238\n",
      "Epoch 500, Cost: 67.9689\n",
      "Epoch 600, Cost: 65.3830\n",
      "Epoch 700, Cost: 63.6215\n",
      "Epoch 800, Cost: 62.3989\n",
      "Epoch 900, Cost: 61.5314\n"
     ]
    }
   ],
   "execution_count": 81
  },
  {
   "metadata": {
    "ExecuteTime": {
     "end_time": "2025-08-02T18:06:33.536592Z",
     "start_time": "2025-08-02T18:06:33.532937Z"
    }
   },
   "cell_type": "code",
   "source": [
    "# Final weights and bias\n",
    "final_weights = w[:-1]\n",
    "final_bias = w[-1]\n",
    "print(\"\\nFinal Weights:\", final_weights.ravel())\n",
    "print(\"Final Bias:\", final_bias.item())\n",
    "\n",
    "# Predictions and Evaluation\n",
    "y_pred_final = X @ w\n",
    "mse = np.mean((y - y_pred_final) ** 2)\n",
    "print(\"Final MSE:\", mse)\n"
   ],
   "id": "a27e4d0c5d1a7a4b",
   "outputs": [
    {
     "name": "stdout",
     "output_type": "stream",
     "text": [
      "\n",
      "Final Weights: [-4.50003774  9.46343264 -5.77178267  5.68571874 -4.11516966]\n",
      "Final Bias: 24.823351337448102\n",
      "Final MSE: 60.90018539000017\n"
     ]
    }
   ],
   "execution_count": 82
  },
  {
   "metadata": {
    "ExecuteTime": {
     "end_time": "2025-08-02T18:06:33.717270Z",
     "start_time": "2025-08-02T18:06:33.607409Z"
    }
   },
   "cell_type": "code",
   "source": [
    "import matplotlib.pyplot as plt\n",
    "\n",
    "plt.plot(range(epochs), cost_history)\n",
    "plt.xlabel(\"Epoch\")\n",
    "plt.ylabel(\"Cost (MSE)\")\n",
    "plt.title(\"Gradient Descent Progress\")\n",
    "plt.grid(True)\n",
    "plt.show()\n"
   ],
   "id": "f07764352607f5d2",
   "outputs": [
    {
     "data": {
      "text/plain": [
       "<Figure size 640x480 with 1 Axes>"
      ],
      "image/png": "[encoded data removed]"
     },
     "metadata": {},
     "output_type": "display_data"
    }
   ],
   "execution_count": 83
  },
  {
   "metadata": {
    "ExecuteTime": {
     "end_time": "2025-08-02T18:06:33.758689Z",
     "start_time": "2025-08-02T18:06:33.756476Z"
    }
   },
   "cell_type": "code",
   "source": "",
   "id": "4eb75affacb932ab",
   "outputs": [],
   "execution_count": null
  }
 ],
 "metadata": {
  "kernelspec": {
   "display_name": "Python 3",
   "language": "python",
   "name": "python3"
  },
  "language_info": {
   "codemirror_mode": {
    "name": "ipython",
    "version": 2
   },
   "file_extension": ".py",
   "mimetype": "text/x-python",
   "name": "python",
   "nbconvert_exporter": "python",
   "pygments_lexer": "ipython2",
   "version": "2.7.6"
  }
 },
 "nbformat": 4,
 "nbformat_minor": 5
}

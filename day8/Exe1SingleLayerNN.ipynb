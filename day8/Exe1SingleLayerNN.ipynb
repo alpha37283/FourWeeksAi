{
 "cells": [
  {
   "cell_type": "code",
   "id": "initial_id",
   "metadata": {
    "collapsed": true,
    "ExecuteTime": {
     "end_time": "2025-09-30T05:51:03.493455Z",
     "start_time": "2025-09-30T05:51:03.479831Z"
    }
   },
   "source": [
    "import numpy as np\n",
    "import pandas as pd\n",
    "\n",
    "# Set random seed for reproducibility\n",
    "np.random.seed(42)\n",
    "\n",
    "# Generate synthetic data\n",
    "n_samples = 200\n",
    "\n",
    "# Feature 1: Hours studying (0-10)\n",
    "hours_studying = np.random.uniform(0, 10, n_samples)\n",
    "\n",
    "# Feature 2: Hours on social media (0-10)\n",
    "hours_social_media = np.random.uniform(0, 10, n_samples)\n",
    "\n",
    "# Rule: passing depends on more studying and less social media\n",
    "# Simple linear rule: pass if (2*study_hours - social_media_hours) > 5\n",
    "labels = (2 * hours_studying - hours_social_media > 5).astype(int)\n",
    "\n",
    "# Create DataFrame\n",
    "data = pd.DataFrame({\n",
    "    \"Hours_Studying\": hours_studying,\n",
    "    \"Hours_Social_Media\": hours_social_media,\n",
    "    \"Pass\": labels\n",
    "})\n",
    "\n"
   ],
   "outputs": [],
   "execution_count": 3
  },
  {
   "metadata": {
    "ExecuteTime": {
     "end_time": "2025-09-30T05:51:08.203823Z",
     "start_time": "2025-09-30T05:51:08.178354Z"
    }
   },
   "cell_type": "code",
   "source": "data.head()",
   "id": "9744fc63438af692",
   "outputs": [
    {
     "data": {
      "text/plain": [
       "   Hours_Studying  Hours_Social_Media  Pass\n",
       "0        3.745401            6.420316     0\n",
       "1        9.507143            0.841400     1\n",
       "2        7.319939            1.616287     1\n",
       "3        5.986585            8.985542     0\n",
       "4        1.560186            6.064291     0"
      ],
      "text/html": [
       "<div>\n",
       "<style scoped>\n",
       "    .dataframe tbody tr th:only-of-type {\n",
       "        vertical-align: middle;\n",
       "    }\n",
       "\n",
       "    .dataframe tbody tr th {\n",
       "        vertical-align: top;\n",
       "    }\n",
       "\n",
       "    .dataframe thead th {\n",
       "        text-align: right;\n",
       "    }\n",
       "</style>\n",
       "<table border=\"1\" class=\"dataframe\">\n",
       "  <thead>\n",
       "    <tr style=\"text-align: right;\">\n",
       "      <th></th>\n",
       "      <th>Hours_Studying</th>\n",
       "      <th>Hours_Social_Media</th>\n",
       "      <th>Pass</th>\n",
       "    </tr>\n",
       "  </thead>\n",
       "  <tbody>\n",
       "    <tr>\n",
       "      <th>0</th>\n",
       "      <td>3.745401</td>\n",
       "      <td>6.420316</td>\n",
       "      <td>0</td>\n",
       "    </tr>\n",
       "    <tr>\n",
       "      <th>1</th>\n",
       "      <td>9.507143</td>\n",
       "      <td>0.841400</td>\n",
       "      <td>1</td>\n",
       "    </tr>\n",
       "    <tr>\n",
       "      <th>2</th>\n",
       "      <td>7.319939</td>\n",
       "      <td>1.616287</td>\n",
       "      <td>1</td>\n",
       "    </tr>\n",
       "    <tr>\n",
       "      <th>3</th>\n",
       "      <td>5.986585</td>\n",
       "      <td>8.985542</td>\n",
       "      <td>0</td>\n",
       "    </tr>\n",
       "    <tr>\n",
       "      <th>4</th>\n",
       "      <td>1.560186</td>\n",
       "      <td>6.064291</td>\n",
       "      <td>0</td>\n",
       "    </tr>\n",
       "  </tbody>\n",
       "</table>\n",
       "</div>"
      ]
     },
     "execution_count": 4,
     "metadata": {},
     "output_type": "execute_result"
    }
   ],
   "execution_count": 4
  },
  {
   "metadata": {},
   "cell_type": "code",
   "outputs": [],
   "execution_count": null,
   "source": [
    "import numpy as np\n",
    "import tensorflow as tf\n",
    "import pandas as pd"
   ],
   "id": "8307ba3b32f2406e"
  },
  {
   "metadata": {
    "ExecuteTime": {
     "end_time": "2025-09-30T06:18:15.553114Z",
     "start_time": "2025-09-30T06:18:15.549506Z"
    }
   },
   "cell_type": "code",
   "source": [
    "X = np.column_stack((hours_studying, hours_social_media))\n",
    "y = labels.reshape(-1, 1)"
   ],
   "id": "35f0cbbb8051bea1",
   "outputs": [],
   "execution_count": 5
  },
  {
   "metadata": {},
   "cell_type": "code",
   "outputs": [],
   "execution_count": null,
   "source": [
    "model = tf.keras.Sequential([\n",
    "tf.keras.layers.Dense(1, activation=\"sigmoid\", input_shape=(2,))\n",
    "])\n",
    "\n",
    "model.compile(optimizer=tf.keras.optimizers.SGD(learning_rate=0.1),\n",
    "loss=\"binary_crossentropy\",\n",
    "metrics=[\"accuracy\"])"
   ],
   "id": "4071c1a54045ca11"
  },
  {
   "metadata": {},
   "cell_type": "code",
   "outputs": [],
   "execution_count": null,
   "source": "history = model.fit(X, y, epochs=50, verbose=0)",
   "id": "8d635d9bfbb445a0"
  },
  {
   "metadata": {},
   "cell_type": "code",
   "outputs": [],
   "execution_count": null,
   "source": [
    "loss, acc = model.evaluate(X, y, verbose=0)\n",
    "print(f\"Final Accuracy: {acc:.2f}\")"
   ],
   "id": "f3b0cbf65e750876"
  },
  {
   "metadata": {},
   "cell_type": "code",
   "outputs": [],
   "execution_count": null,
   "source": [
    "weights, bias = model.layers[0].get_weights()\n",
    "print(\"Weights:\", weights.flatten())\n",
    "print(\"Bias:\", bias)"
   ],
   "id": "c13eb29f071f0b59"
  }
 ],
 "metadata": {
  "kernelspec": {
   "display_name": "Python 3",
   "language": "python",
   "name": "python3"
  },
  "language_info": {
   "codemirror_mode": {
    "name": "ipython",
    "version": 2
   },
   "file_extension": ".py",
   "mimetype": "text/x-python",
   "name": "python",
   "nbconvert_exporter": "python",
   "pygments_lexer": "ipython2",
   "version": "2.7.6"
  }
 },
 "nbformat": 4,
 "nbformat_minor": 5
}

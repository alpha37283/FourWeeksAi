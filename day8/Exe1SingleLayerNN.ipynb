{
 "cells": [
  {
   "cell_type": "code",
   "id": "initial_id",
   "metadata": {
    "collapsed": true,
    "ExecuteTime": {
     "end_time": "2025-09-30T13:32:16.247545Z",
     "start_time": "2025-09-30T13:32:16.239342Z"
    }
   },
   "source": [
    "import numpy as np\n",
    "import pandas as pd\n",
    "\n",
    "# Set random seed for reproducibility\n",
    "np.random.seed(42)\n",
    "\n",
    "# Generate synthetic data\n",
    "n_samples = 200\n",
    "\n",
    "# Feature 1: Hours studying (0-10)\n",
    "hours_studying = np.random.uniform(0, 10, n_samples)\n",
    "\n",
    "# Feature 2: Hours on social media (0-10)\n",
    "hours_social_media = np.random.uniform(0, 10, n_samples)\n",
    "\n",
    "# Rule: passing depends on more studying and less social media\n",
    "# Simple linear rule: pass if (2*study_hours - social_media_hours) > 5\n",
    "labels = (2 * hours_studying - hours_social_media > 5).astype(int)\n",
    "\n",
    "# Create DataFrame\n",
    "data = pd.DataFrame({\n",
    "    \"Hours_Studying\": hours_studying,\n",
    "    \"Hours_Social_Media\": hours_social_media,\n",
    "    \"Pass\": labels\n",
    "})\n",
    "\n"
   ],
   "outputs": [],
   "execution_count": 6
  },
  {
   "metadata": {
    "ExecuteTime": {
     "end_time": "2025-09-30T13:33:53.057090Z",
     "start_time": "2025-09-30T13:33:53.050811Z"
    }
   },
   "cell_type": "code",
   "source": [
    "data.head()\n",
    "data.Hours_Studying.shape"
   ],
   "id": "9744fc63438af692",
   "outputs": [
    {
     "data": {
      "text/plain": [
       "(200,)"
      ]
     },
     "execution_count": 9,
     "metadata": {},
     "output_type": "execute_result"
    }
   ],
   "execution_count": 9
  },
  {
   "metadata": {
    "ExecuteTime": {
     "end_time": "2025-09-30T13:34:58.223673Z",
     "start_time": "2025-09-30T13:34:58.218687Z"
    }
   },
   "cell_type": "code",
   "source": [
    "import numpy as np\n",
    "import tensorflow as tf\n",
    "import pandas as pd"
   ],
   "id": "8307ba3b32f2406e",
   "outputs": [],
   "execution_count": 10
  },
  {
   "metadata": {
    "ExecuteTime": {
     "end_time": "2025-09-30T13:35:01.349436Z",
     "start_time": "2025-09-30T13:35:01.345773Z"
    }
   },
   "cell_type": "code",
   "source": [
    "X = np.column_stack((hours_studying, hours_social_media))\n",
    "y = labels.reshape(-1, 1)"
   ],
   "id": "35f0cbbb8051bea1",
   "outputs": [],
   "execution_count": 11
  },
  {
   "metadata": {
    "ExecuteTime": {
     "end_time": "2025-09-30T13:37:21.009103Z",
     "start_time": "2025-09-30T13:37:20.953955Z"
    }
   },
   "cell_type": "code",
   "source": [
    "\n",
    "model = tf.keras.Sequential([\n",
    "    tf.keras.Input(shape=(2,)),                  # input shape = 2 features\n",
    "    tf.keras.layers.Dense(1, activation=\"sigmoid\")\n",
    "])\n",
    "\n",
    "\n",
    "model.compile(optimizer=tf.keras.optimizers.SGD(learning_rate=0.1),\n",
    "loss=\"binary_crossentropy\",\n",
    "metrics=[\"accuracy\"])"
   ],
   "id": "4071c1a54045ca11",
   "outputs": [],
   "execution_count": 14
  },
  {
   "metadata": {
    "ExecuteTime": {
     "end_time": "2025-09-30T13:37:26.762678Z",
     "start_time": "2025-09-30T13:37:23.774555Z"
    }
   },
   "cell_type": "code",
   "source": "history = model.fit(X, y, epochs=50, verbose=0)",
   "id": "8d635d9bfbb445a0",
   "outputs": [],
   "execution_count": 15
  },
  {
   "metadata": {
    "ExecuteTime": {
     "end_time": "2025-09-30T13:37:32.639579Z",
     "start_time": "2025-09-30T13:37:32.386664Z"
    }
   },
   "cell_type": "code",
   "source": [
    "loss, acc = model.evaluate(X, y, verbose=0)\n",
    "print(f\"Final Accuracy: {acc:.2f}\")"
   ],
   "id": "f3b0cbf65e750876",
   "outputs": [
    {
     "name": "stdout",
     "output_type": "stream",
     "text": [
      "Final Accuracy: 0.96\n"
     ]
    }
   ],
   "execution_count": 16
  },
  {
   "metadata": {
    "ExecuteTime": {
     "end_time": "2025-09-30T13:37:35.815393Z",
     "start_time": "2025-09-30T13:37:35.794469Z"
    }
   },
   "cell_type": "code",
   "source": [
    "weights, bias = model.layers[0].get_weights()\n",
    "print(\"Weights:\", weights.flatten())\n",
    "print(\"Bias:\", bias)"
   ],
   "id": "c13eb29f071f0b59",
   "outputs": [
    {
     "name": "stdout",
     "output_type": "stream",
     "text": [
      "Weights: [ 1.5021949 -1.156991 ]\n",
      "Bias: [-1.5658206]\n"
     ]
    }
   ],
   "execution_count": 17
  }
 ],
 "metadata": {
  "kernelspec": {
   "display_name": "Python 3",
   "language": "python",
   "name": "python3"
  },
  "language_info": {
   "codemirror_mode": {
    "name": "ipython",
    "version": 2
   },
   "file_extension": ".py",
   "mimetype": "text/x-python",
   "name": "python",
   "nbconvert_exporter": "python",
   "pygments_lexer": "ipython2",
   "version": "2.7.6"
  }
 },
 "nbformat": 4,
 "nbformat_minor": 5
}
